{
  "cells": [
    {
      "cell_type": "code",
      "execution_count": null,
      "metadata": {
        "id": "u0gfF5-2ZF4Q"
      },
      "outputs": [],
      "source": [
        "# from google.colab import drive\n",
        "# drive.mount('/content/drive')"
      ]
    },
    {
      "cell_type": "code",
      "execution_count": null,
      "metadata": {
        "id": "P1LPnlleabmx"
      },
      "outputs": [],
      "source": [
        "import tensorflow as tf\n",
        "import matplotlib.pyplot as plt\n",
        "import seaborn as sn\n",
        "import numpy as np\n",
        "import pandas as pd\n",
        "from sklearn import metrics\n",
        "from skimage.feature import hog"
      ]
    },
    {
      "cell_type": "code",
      "execution_count": null,
      "metadata": {
        "colab": {
          "base_uri": "https://localhost:8080/"
        },
        "id": "NTwpG2XIa047",
        "outputId": "63010cd9-10a4-45d7-ca01-948382582a7b"
      },
      "outputs": [
        {
          "name": "stdout",
          "output_type": "stream",
          "text": [
            "Downloading data from https://storage.googleapis.com/tensorflow/tf-keras-datasets/mnist.npz\n",
            "11490434/11490434 [==============================] - 0s 0us/step\n"
          ]
        }
      ],
      "source": [
        "mnist = tf.keras.datasets.mnist\n",
        "\n",
        "(x_train, y_train), (x_test, y_test) = mnist.load_data()\n",
        "x_train, x_test = x_train / 255.0, x_test / 255.0"
      ]
    },
    {
      "cell_type": "code",
      "execution_count": null,
      "metadata": {
        "colab": {
          "base_uri": "https://localhost:8080/"
        },
        "id": "_vRH0mOsMmJY",
        "outputId": "9afe66ac-4c41-481d-9799-e21152a11bdc"
      },
      "outputs": [
        {
          "data": {
            "text/plain": [
              "(60000, 28, 28)"
            ]
          },
          "execution_count": 4,
          "metadata": {},
          "output_type": "execute_result"
        }
      ],
      "source": [
        "x_train.shape"
      ]
    },
    {
      "cell_type": "code",
      "execution_count": null,
      "metadata": {
        "colab": {
          "base_uri": "https://localhost:8080/",
          "height": 192
        },
        "id": "QfTsUaK0PSj9",
        "outputId": "3dca748a-802a-4c37-bdf2-d86e406f81bc"
      },
      "outputs": [
        {
          "data": {
            "image/png": "[encoded data removed]",
            "text/plain": [
              "<Figure size 2000x200 with 9 Axes>"
            ]
          },
          "metadata": {},
          "output_type": "display_data"
        }
      ],
      "source": [
        "plt.figure(figsize=(20, 2))\n",
        "for i in range(1, 10):\n",
        "    ax = plt.subplot(1, 10, i)\n",
        "    plt.imshow(x_train[i], cmap=plt.get_cmap('gray'))\n",
        "plt.show()"
      ]
    },
    {
      "cell_type": "code",
      "execution_count": null,
      "metadata": {
        "id": "-d2kjzPmKYnx"
      },
      "outputs": [],
      "source": [
        "# Extract HOG features \n",
        "def extract_HOG_features(data):\n",
        "    num_samples = data.shape[0]\n",
        "    hog_features = []\n",
        "    for i in range(num_samples):\n",
        "        img = data[i]\n",
        "        feature = hog(img, orientations=4, pixels_per_cell=(3, 3), cells_per_block=(3, 3), block_norm=\"L2\")\n",
        "        hog_features.append(feature)\n",
        "    return np.array(hog_features)"
      ]
    },
    {
      "cell_type": "code",
      "execution_count": null,
      "metadata": {
        "id": "gzy35vZDKZSC"
      },
      "outputs": [],
      "source": [
        "train_features = extract_HOG_features(x_train)\n",
        "test_features = extract_HOG_features(x_test)"
      ]
    },
    {
      "cell_type": "code",
      "execution_count": null,
      "metadata": {
        "colab": {
          "base_uri": "https://localhost:8080/"
        },
        "id": "1ie9inC8LQY5",
        "outputId": "b6bb6e51-998d-4564-cb8e-93caa3cecd9e"
      },
      "outputs": [
        {
          "data": {
            "text/plain": [
              "(1764,)"
            ]
          },
          "execution_count": 11,
          "metadata": {},
          "output_type": "execute_result"
        }
      ],
      "source": [
        "train_features[0].shape"
      ]
    },
    {
      "cell_type": "code",
      "execution_count": null,
      "metadata": {
        "id": "d2ok26W1a_pn"
      },
      "outputs": [],
      "source": [
        "model = tf.keras.models.Sequential([\n",
        "  tf.keras.layers.Flatten(input_shape=train_features[0].shape),\n",
        "  tf.keras.layers.Dense(1024, activation='relu'),\n",
        "  # tf.keras.layers.Dropout(0.5),\n",
        "  # tf.keras.layers.BatchNormalization(),\n",
        "  tf.keras.layers.Dense(512, activation='relu'),\n",
        "  # tf.keras.layers.Dropout(0.5),\n",
        "  # tf.keras.layers.BatchNormalization(),\n",
        "  tf.keras.layers.Dense(10, activation = 'softmax')\n",
        "])"
      ]
    },
    {
      "cell_type": "code",
      "execution_count": null,
      "metadata": {
        "id": "8dfya6GXewm1"
      },
      "outputs": [],
      "source": [
        "loss_fn = tf.keras.losses.SparseCategoricalCrossentropy(from_logits=True)"
      ]
    },
    {
      "cell_type": "code",
      "execution_count": null,
      "metadata": {
        "colab": {
          "base_uri": "https://localhost:8080/"
        },
        "id": "z9r6DqhZcZzQ",
        "outputId": "43c28752-5c1e-4ae7-f3d9-3c1b94c2f0b7"
      },
      "outputs": [
        {
          "name": "stderr",
          "output_type": "stream",
          "text": [
            "WARNING:absl:`lr` is deprecated in Keras optimizer, please use `learning_rate` or use the legacy optimizer, e.g.,tf.keras.optimizers.legacy.Adam.\n"
          ]
        },
        {
          "name": "stdout",
          "output_type": "stream",
          "text": [
            "Model: \"sequential_33\"\n",
            "_________________________________________________________________\n",
            " Layer (type)                Output Shape              Param #   \n",
            "=================================================================\n",
            " flatten_33 (Flatten)        (None, 1764)              0         \n",
            "                                                                 \n",
            " dense_97 (Dense)            (None, 1024)              1807360   \n",
            "                                                                 \n",
            " dense_98 (Dense)            (None, 512)               524800    \n",
            "                                                                 \n",
            " dense_99 (Dense)            (None, 10)                5130      \n",
            "                                                                 \n",
            "=================================================================\n",
            "Total params: 2,337,290\n",
            "Trainable params: 2,337,290\n",
            "Non-trainable params: 0\n",
            "_________________________________________________________________\n"
          ]
        }
      ],
      "source": [
        "optimizer = tf.keras.optimizers.Adam(lr=0.001)\n",
        "model.compile(loss=loss_fn, optimizer=optimizer, metrics=[\"accuracy\"])\n",
        "model.summary()"
      ]
    },
    {
      "cell_type": "code",
      "execution_count": null,
      "metadata": {
        "colab": {
          "base_uri": "https://localhost:8080/"
        },
        "id": "Zdaa8YCRbJIn",
        "outputId": "30131a2e-0b00-4b51-a918-292bf785c85e"
      },
      "outputs": [
        {
          "name": "stdout",
          "output_type": "stream",
          "text": [
            "Epoch 1/25\n"
          ]
        },
        {
          "name": "stderr",
          "output_type": "stream",
          "text": [
            "/usr/local/lib/python3.10/dist-packages/keras/backend.py:5612: UserWarning: \"`sparse_categorical_crossentropy` received `from_logits=True`, but the `output` argument was produced by a Softmax activation and thus does not represent logits. Was this intended?\n",
            "  output, from_logits = _get_logits(\n"
          ]
        },
        {
          "name": "stdout",
          "output_type": "stream",
          "text": [
            "540/540 [==============================] - 4s 5ms/step - loss: 0.1863 - accuracy: 0.9400 - val_loss: 0.1285 - val_accuracy: 0.9600 - lr: 0.0010\n",
            "Epoch 2/25\n",
            "540/540 [==============================] - 2s 3ms/step - loss: 0.0923 - accuracy: 0.9696 - val_loss: 0.0831 - val_accuracy: 0.9743 - lr: 0.0010\n",
            "Epoch 3/25\n",
            "540/540 [==============================] - 2s 3ms/step - loss: 0.0647 - accuracy: 0.9783 - val_loss: 0.0747 - val_accuracy: 0.9777 - lr: 0.0010\n",
            "Epoch 4/25\n",
            "540/540 [==============================] - 2s 3ms/step - loss: 0.0490 - accuracy: 0.9829 - val_loss: 0.0776 - val_accuracy: 0.9785 - lr: 0.0010\n",
            "Epoch 5/25\n",
            "540/540 [==============================] - 2s 3ms/step - loss: 0.0173 - accuracy: 0.9949 - val_loss: 0.0629 - val_accuracy: 0.9850 - lr: 1.0000e-04\n",
            "Epoch 6/25\n",
            "540/540 [==============================] - 2s 3ms/step - loss: 0.0109 - accuracy: 0.9971 - val_loss: 0.0666 - val_accuracy: 0.9842 - lr: 1.0000e-04\n",
            "Epoch 7/25\n",
            "540/540 [==============================] - 2s 4ms/step - loss: 0.0080 - accuracy: 0.9979 - val_loss: 0.0683 - val_accuracy: 0.9843 - lr: 1.0000e-04\n",
            "Epoch 8/25\n",
            "540/540 [==============================] - 2s 4ms/step - loss: 0.0059 - accuracy: 0.9989 - val_loss: 0.0710 - val_accuracy: 0.9852 - lr: 1.0000e-04\n"
          ]
        }
      ],
      "source": [
        "reduceLearningRate = tf.keras.callbacks.ReduceLROnPlateau(monitor='val_loss', factor=0.1, patience=1, min_lr=0.0001)\n",
        "earlyStopping = tf.keras.callbacks.EarlyStopping(monitor='val_loss', min_delta=0, patience=3, verbose=0, mode='auto')\n",
        "\n",
        "# Train model with .fit function\n",
        "history = model.fit(\n",
        "    train_features,\n",
        "    y_train,\n",
        "    validation_split=0.1,\n",
        "    epochs=25,\n",
        "    batch_size=100,\n",
        "    shuffle = True,\n",
        "    callbacks=[reduceLearningRate, earlyStopping]\n",
        ")\n",
        "# model.save(r'/content/drive/MyDrive/Machine Learning/ANN_MNIST/Model/HOG_noise_best.h5')"
      ]
    },
    {
      "cell_type": "code",
      "execution_count": null,
      "metadata": {
        "colab": {
          "base_uri": "https://localhost:8080/"
        },
        "id": "HSXOIQOERbPD",
        "outputId": "57a4e803-5a39-4d05-97ab-b796e7c697ce"
      },
      "outputs": [
        {
          "name": "stdout",
          "output_type": "stream",
          "text": [
            "313/313 [==============================] - 1s 2ms/step\n",
            "0.9824\n"
          ]
        }
      ],
      "source": [
        "predictions = model.predict(test_features)\n",
        "actual = y_test\n",
        "print(metrics.accuracy_score(actual, np.argmax(predictions, axis = 1)))"
      ]
    },
    {
      "cell_type": "code",
      "execution_count": null,
      "metadata": {
        "id": "4ur0LMUnfe6j"
      },
      "outputs": [],
      "source": [
        "print(metrics.classification_report(actual, np.argmax(predictions, axis = 1), labels=[0, 1, 2, 3, 4, 5, 6, 7, 8, 9]))"
      ]
    },
    {
      "cell_type": "code",
      "execution_count": null,
      "metadata": {
        "colab": {
          "base_uri": "https://localhost:8080/",
          "height": 449
        },
        "id": "sqDd15LYbpYW",
        "outputId": "f85e9960-41b5-472a-88d4-39a56e5f20c4"
      },
      "outputs": [
        {
          "data": {
            "image/png": "[encoded data removed]",
            "text/plain": [
              "<Figure size 640x480 with 1 Axes>"
            ]
          },
          "metadata": {},
          "output_type": "display_data"
        }
      ],
      "source": [
        "plt.plot(history.history[\"loss\"], 'b', label=\"Train Loss\")\n",
        "plt.plot(history.history[\"val_loss\"], 'r', label=\"Validation loss\")\n",
        "plt.axis([0, 25, 0, 0.5])\n",
        "plt.xlabel(\"Epoch\")\n",
        "plt.ylabel(\"Loss\")\n",
        "plt.legend()\n",
        "plt.show()\n",
        "plt.style.use('default')"
      ]
    },
    {
      "cell_type": "code",
      "execution_count": null,
      "metadata": {
        "colab": {
          "base_uri": "https://localhost:8080/",
          "height": 455
        },
        "id": "xNh3FFMtclmj",
        "outputId": "544b5b5b-5700-4300-9e77-165380451344"
      },
      "outputs": [
        {
          "data": {
            "image/png": "[encoded data removed]",
            "text/plain": [
              "<Figure size 640x480 with 1 Axes>"
            ]
          },
          "metadata": {},
          "output_type": "display_data"
        }
      ],
      "source": [
        "plt.plot(history.history[\"accuracy\"], 'b', label=\"Train accuracy\")\n",
        "plt.plot(history.history[\"val_accuracy\"], 'r', label=\"Validation accuracy\")\n",
        "plt.axis([0, 25, 0.85, 1])\n",
        "plt.xlabel(\"Epoch\")\n",
        "plt.ylabel(\"Accuracy\")\n",
        "plt.legend()\n",
        "plt.show()\n",
        "plt.style.use('default')"
      ]
    },
    {
      "cell_type": "code",
      "execution_count": null,
      "metadata": {
        "id": "3RkJIKyE6M4S"
      },
      "outputs": [],
      "source": [
        "matrix = metrics.confusion_matrix(\n",
        "    actual,\n",
        "    np.argmax(predictions, axis = 1)\n",
        ")\n",
        "# Plot confusion matrix with matplotlib\n",
        "labels = ['0', '1', '2', '3', '4', '5', '6', '7', '8', '9']\n",
        "\n",
        "DataFrameMatrix = pd.DataFrame(matrix, columns=np.unique(labels), index = np.unique(labels))\n",
        "DataFrameMatrix.index.name = 'Actual'\n",
        "DataFrameMatrix.columns.name = 'Predict'\n",
        "plt.figure(figsize = (10,10))\n",
        "sn.set(font_scale=1.5) \n",
        "sn.heatmap(DataFrameMatrix, cmap=\"Reds\", annot=True, annot_kws={\"size\": 10}, fmt=\"d\")"
      ]
    }
  ],
  "metadata": {
    "accelerator": "GPU",
    "colab": {
      "provenance": []
    },
    "kernelspec": {
      "display_name": "Python 3",
      "name": "python3"
    },
    "language_info": {
      "name": "python"
    }
  },
  "nbformat": 4,
  "nbformat_minor": 0
}
